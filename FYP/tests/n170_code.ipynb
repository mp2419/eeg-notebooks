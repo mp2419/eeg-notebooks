{
 "cells": [
  {
   "cell_type": "code",
   "execution_count": null,
   "metadata": {},
   "outputs": [],
   "source": [
    "import os\n",
    "from eegnb import generate_save_fn\n",
    "from eegnb.devices.eeg import EEG\n",
    "from eegnb.experiments.visual_n170 import n170\n",
    "\n",
    "# Define some variables\n",
    "board_name = \"muse\"\n",
    "experiment = \"visual_n170\"\n",
    "subject_id = 0\n",
    "session_nb = 0\n",
    "record_duration = 120"
   ]
  }
 ],
 "metadata": {
  "kernelspec": {
   "display_name": "eeg-notebooks",
   "language": "python",
   "name": "python3"
  },
  "language_info": {
   "name": "python",
   "version": "3.7.15 (default, Nov 24 2022, 18:44:54) [MSC v.1916 64 bit (AMD64)]"
  },
  "orig_nbformat": 4,
  "vscode": {
   "interpreter": {
    "hash": "2421050d7b3a74c547c6913f1f95919a29785765c6e97d8d5341bb00765e708d"
   }
  }
 },
 "nbformat": 4,
 "nbformat_minor": 2
}
