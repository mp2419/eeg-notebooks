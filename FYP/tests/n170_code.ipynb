{
 "cells": [
  {
   "cell_type": "code",
   "execution_count": null,
   "metadata": {},
   "outputs": [],
   "source": [
    "import os\n",
    "from eegnb import generate_save_fn\n",
    "from eegnb.devices.eeg import EEG\n",
    "from eegnb.experiments.visual_n170 import n170\n",
    "\n",
    "# Define some variables\n",
    "board_name = \"muse\"\n",
    "experiment = \"visual_n170\"\n",
    "subject_id = 0\n",
    "session_nb = 0\n",
    "record_duration = 120"
   ]
  }
 ],
 "metadata": {
  "language_info": {
   "name": "python"
  },
  "orig_nbformat": 4
 },
 "nbformat": 4,
 "nbformat_minor": 2
}
