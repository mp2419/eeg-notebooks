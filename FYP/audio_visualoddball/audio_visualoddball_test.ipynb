{
 "cells": [
  {
   "cell_type": "code",
   "execution_count": null,
   "metadata": {},
   "outputs": [],
   "source": [
    "# ODDBALL TESTING METHODOLOGY\n",
    "\n",
    "#Primary Tasy: Visual count of red and blue circles\n",
    "#Secondary Task: occasional Inferference of Audio stimulus indicating to press right or left arrow\n",
    "\n",
    "#Primary Task Flow paused until user performs Secondary Task Command\n",
    "#End of test: return toatl n of Blue and Red Circles from Primary Task\n",
    "\n",
    "# EEG STREAM & MARKERS\n",
    "\n",
    "#Constant EE stream during experiment\n",
    "#First validate quality of data streamed \n",
    "\n",
    "#Marker0: at every Circle appearance (blue/red sequence stored) \n",
    "#Marker1: at every Command (left/right sequence stored) \n",
    "#Marker2: at every Key input from the user"
   ]
  },
  {
   "cell_type": "code",
   "execution_count": null,
   "metadata": {},
   "outputs": [],
   "source": [
    "#packages abd libraries\n",
    "from muselsl import stream, list_muses, view, record\n",
    "from multiprocessing import Process\n",
    "from mne import Epochs, find_events\n",
    "from time import time, strftime, gmtime\n",
    "import os\n",
    "\n",
    "from collections import OrderedDict\n",
    "import warnings\n",
    "warnings.filterwarnings('ignore')\n",
    "\n",
    "from scipy.io import loadmat\n",
    "\n",
    "from psychopy import prefs\n",
    "#prefs.hardware['audioLib'] = ['PTB']\n",
    "#prefs.hardware['audioLib'] = ['pyo'] # PTB']\n",
    "\n",
    "from eegnb.experiments.auditory_oddball import auditory_erp_arrayin\n",
    "from eegnb.analysis import utils\n",
    "\n",
    "import numpy as np, pandas as pd\n",
    "import h5py"
   ]
  },
  {
   "cell_type": "code",
   "execution_count": null,
   "metadata": {},
   "outputs": [],
   "source": []
  }
 ],
 "metadata": {
  "kernelspec": {
   "display_name": "eeg-notebooks",
   "language": "python",
   "name": "python3"
  },
  "language_info": {
   "name": "python",
   "version": "3.7.15 (default, Nov 24 2022, 18:44:54) [MSC v.1916 64 bit (AMD64)]"
  },
  "orig_nbformat": 4,
  "vscode": {
   "interpreter": {
    "hash": "2421050d7b3a74c547c6913f1f95919a29785765c6e97d8d5341bb00765e708d"
   }
  }
 },
 "nbformat": 4,
 "nbformat_minor": 2
}
