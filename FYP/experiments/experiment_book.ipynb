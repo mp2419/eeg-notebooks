{
 "cells": [
  {
   "attachments": {},
   "cell_type": "markdown",
   "metadata": {},
   "source": [
    "-----------------------\n",
    "----------------------\n",
    "BCI EXPERIEMENT\n",
    "-----------------------\n",
    "- EEG data quality and visualisation \n",
    "- AUDIO:\n",
    "    - Initial Test \n",
    "    - EEG visualisation\n",
    "    - trial 1, trial 2\n",
    "- VIBRO:\n",
    "    - Initial Test \n",
    "    - EEG visualisation\n",
    "    - trial 1, trial 2\n",
    "- SHAPE: \n",
    "    - Initial Test \n",
    "    - EEG visualisation\n",
    "    - trial 1, trial 2\n"
   ]
  },
  {
   "cell_type": "code",
   "execution_count": 1,
   "metadata": {},
   "outputs": [
    {
     "data": {
      "text/plain": [
       "'c:\\\\Users\\\\matil\\\\Desktop\\\\FYP\\\\code_env\\\\eeg-notebooks\\\\FYP\\\\experiments'"
      ]
     },
     "execution_count": 1,
     "metadata": {},
     "output_type": "execute_result"
    }
   ],
   "source": [
    "# #pwd\n",
    "# #--\n",
    "# # import os\n",
    "# # os.chdir('C:\\\\Users\\\\matil\\\\Desktop\\\\FYP\\\\code_env\\\\eeg-notebooks\\\\FYP') \n",
    "# import sys\n",
    "# sys.path.append(\"..\\\\\")\n",
    "# sys.path.append(\"C:\\\\Users\\\\matil\\\\Desktop\\\\FYP\\\\code_env\\\\eeg-notebooks\\\\FYP\\\\utils\")\n",
    "# sys.path.append(\"C:\\\\Users\\\\matil\\\\Desktop\\\\FYP\\\\code_env\\\\eeg-notebooks\\\\FYP\\\\experiments\")\n",
    "# print(sys.path)"
   ]
  },
  {
   "cell_type": "code",
   "execution_count": 18,
   "metadata": {},
   "outputs": [
    {
     "name": "stdout",
     "output_type": "stream",
     "text": [
      "BEGINNING OF EXPERIMENT FOR SUBJECT NUMBER 0\n"
     ]
    }
   ],
   "source": [
    "import os\n",
    "import experiment_lib \n",
    "import analysis_lib as data\n",
    "\n",
    "#TODO EVERY TIME\n",
    "subject_id = \"0\"\n",
    "record_duration = 60*7\n",
    "\n",
    "print(\"BEGINNING OF EXPERIMENT FOR SUBJECT NUMBER\", subject_id)"
   ]
  },
  {
   "cell_type": "code",
   "execution_count": 21,
   "metadata": {},
   "outputs": [
    {
     "name": "stdout",
     "output_type": "stream",
     "text": [
      "Looking for an EEG stream...\n"
     ]
    },
    {
     "ename": "RuntimeError",
     "evalue": "Can't find EEG stream.",
     "output_type": "error",
     "traceback": [
      "\u001b[1;31m---------------------------------------------------------------------------\u001b[0m",
      "\u001b[1;31mRuntimeError\u001b[0m                              Traceback (most recent call last)",
      "\u001b[1;32m~\\AppData\\Local\\Temp\\ipykernel_23664\\2456913344.py\u001b[0m in \u001b[0;36m<module>\u001b[1;34m\u001b[0m\n\u001b[0;32m      1\u001b[0m \u001b[1;31m# EEG visualisation and data quality check\u001b[0m\u001b[1;33m\u001b[0m\u001b[1;33m\u001b[0m\u001b[1;33m\u001b[0m\u001b[0m\n\u001b[0;32m      2\u001b[0m \u001b[1;31m#TODO\u001b[0m\u001b[1;33m\u001b[0m\u001b[1;33m\u001b[0m\u001b[1;33m\u001b[0m\u001b[0m\n\u001b[1;32m----> 3\u001b[1;33m \u001b[0mdata\u001b[0m\u001b[1;33m.\u001b[0m\u001b[0mcheck_quality\u001b[0m\u001b[1;33m(\u001b[0m\u001b[1;33m)\u001b[0m\u001b[1;33m\u001b[0m\u001b[1;33m\u001b[0m\u001b[0m\n\u001b[0m",
      "\u001b[1;32mc:\\Users\\matil\\Desktop\\FYP\\code_env\\eeg-notebooks\\FYP\\experiments\\analysis_lib.py\u001b[0m in \u001b[0;36mcheck_quality\u001b[1;34m(duration)\u001b[0m\n\u001b[0;32m    138\u001b[0m     \u001b[0mstreams\u001b[0m \u001b[1;33m=\u001b[0m \u001b[0mresolve_byprop\u001b[0m\u001b[1;33m(\u001b[0m\u001b[1;34m'type'\u001b[0m\u001b[1;33m,\u001b[0m \u001b[1;34m'EEG'\u001b[0m\u001b[1;33m,\u001b[0m \u001b[0mtimeout\u001b[0m\u001b[1;33m=\u001b[0m\u001b[1;36m2\u001b[0m\u001b[1;33m)\u001b[0m\u001b[1;33m\u001b[0m\u001b[1;33m\u001b[0m\u001b[0m\n\u001b[0;32m    139\u001b[0m     \u001b[1;32mif\u001b[0m \u001b[0mlen\u001b[0m\u001b[1;33m(\u001b[0m\u001b[0mstreams\u001b[0m\u001b[1;33m)\u001b[0m \u001b[1;33m==\u001b[0m \u001b[1;36m0\u001b[0m\u001b[1;33m:\u001b[0m\u001b[1;33m\u001b[0m\u001b[1;33m\u001b[0m\u001b[0m\n\u001b[1;32m--> 140\u001b[1;33m         \u001b[1;32mraise\u001b[0m \u001b[0mRuntimeError\u001b[0m\u001b[1;33m(\u001b[0m\u001b[1;34m'Can\\'t find EEG stream.'\u001b[0m\u001b[1;33m)\u001b[0m\u001b[1;33m\u001b[0m\u001b[1;33m\u001b[0m\u001b[0m\n\u001b[0m\u001b[0;32m    141\u001b[0m \u001b[1;33m\u001b[0m\u001b[0m\n\u001b[0;32m    142\u001b[0m     \u001b[1;31m# Set active EEG stream to inlet and apply time correction\u001b[0m\u001b[1;33m\u001b[0m\u001b[1;33m\u001b[0m\u001b[1;33m\u001b[0m\u001b[0m\n",
      "\u001b[1;31mRuntimeError\u001b[0m: Can't find EEG stream."
     ]
    }
   ],
   "source": [
    "# EEG visualisation and data quality check\n",
    "#TODO\n",
    "data.check_quality()"
   ]
  },
  {
   "attachments": {},
   "cell_type": "markdown",
   "metadata": {},
   "source": [
    "-------------------\n",
    "*AUDIO EXPERIMENT*\n",
    "-------------------"
   ]
  },
  {
   "cell_type": "code",
   "execution_count": 10,
   "metadata": {},
   "outputs": [
    {
     "name": "stdout",
     "output_type": "stream",
     "text": [
      "Experiment Started at time  1684188099.2857623\n",
      "Looking for an EEG stream...\n",
      "Start writing data at time  1684188099.2877645\n"
     ]
    },
    {
     "name": "stderr",
     "output_type": "stream",
     "text": [
      "Exception in thread Thread-4:\n",
      "Traceback (most recent call last):\n",
      "  File \"c:\\Users\\matil\\miniconda3\\envs\\eeg-notebooks\\lib\\threading.py\", line 926, in _bootstrap_inner\n",
      "    self.run()\n",
      "  File \"c:\\Users\\matil\\miniconda3\\envs\\eeg-notebooks\\lib\\threading.py\", line 870, in run\n",
      "    self._target(*self._args, **self._kwargs)\n",
      "  File \"c:\\Users\\matil\\Desktop\\FYP\\code_env\\eeg-notebooks\\FYP\\experiments\\experiment_lib.py\", line 212, in record_data\n",
      "    raise RuntimeError('!!!! Can\\'t find EEG stream. !!!!')\n",
      "RuntimeError: !!!! Can't find EEG stream. !!!!\n",
      "\n"
     ]
    },
    {
     "name": "stdout",
     "output_type": "stream",
     "text": [
      "escape\n",
      "exit\n",
      "Stopped writing data at time  1684188103.994755\n",
      "Number of blue circles reported is:  1 Number of actual blue circles is:  0\n",
      "Experiment Completed at time  1684188105.3110228\n",
      "609.0941 \tWARNING \tUser requested fullscreen with size [1600  900], but screen is actually [1536, 864]. Using actual size\n",
      " -> New merged file at  C:\\Users\\matil\\Desktop\\FYP\\code_env\\eeg-notebooks\\FYP\\data\\test\\data_muse_synch.csv\n"
     ]
    },
    {
     "ename": "AttributeError",
     "evalue": "module 'utils.data_analysis.analysis_lib' has no attribute 'load_csv_as_raw'",
     "output_type": "error",
     "traceback": [
      "\u001b[1;31m---------------------------------------------------------------------------\u001b[0m",
      "\u001b[1;31mAttributeError\u001b[0m                            Traceback (most recent call last)",
      "\u001b[1;32m~\\AppData\\Local\\Temp\\ipykernel_23664\\3565808173.py\u001b[0m in \u001b[0;36m<module>\u001b[1;34m\u001b[0m\n\u001b[0;32m      8\u001b[0m \u001b[0mexperiment_lib\u001b[0m\u001b[1;33m.\u001b[0m\u001b[0mrun_trial\u001b[0m\u001b[1;33m(\u001b[0m\u001b[0mtype\u001b[0m\u001b[1;33m,\u001b[0m \u001b[0mduration\u001b[0m\u001b[1;33m,\u001b[0m \u001b[0mfile_name_raw\u001b[0m \u001b[1;33m=\u001b[0m \u001b[0mfile_name_raw\u001b[0m\u001b[1;33m,\u001b[0m \u001b[0mfile_name_marked\u001b[0m \u001b[1;33m=\u001b[0m \u001b[0mfile_name_marked\u001b[0m\u001b[1;33m,\u001b[0m \u001b[0mfile_name_synched\u001b[0m \u001b[1;33m=\u001b[0m\u001b[0mfile_name_synched\u001b[0m\u001b[1;33m)\u001b[0m\u001b[1;33m\u001b[0m\u001b[1;33m\u001b[0m\u001b[0m\n\u001b[0;32m      9\u001b[0m \u001b[1;33m\u001b[0m\u001b[0m\n\u001b[1;32m---> 10\u001b[1;33m \u001b[0mraw\u001b[0m \u001b[1;33m=\u001b[0m \u001b[0mdata\u001b[0m\u001b[1;33m.\u001b[0m\u001b[0mload_csv_as_raw\u001b[0m\u001b[1;33m(\u001b[0m\u001b[1;33m[\u001b[0m\u001b[0mfile_name_raw\u001b[0m \u001b[1;33m]\u001b[0m\u001b[1;33m,\u001b[0m\u001b[1;36m256\u001b[0m\u001b[1;33m,\u001b[0m \u001b[1;33m[\u001b[0m\u001b[1;36m1\u001b[0m\u001b[1;33m,\u001b[0m\u001b[1;36m2\u001b[0m\u001b[1;33m,\u001b[0m\u001b[1;36m3\u001b[0m\u001b[1;33m,\u001b[0m \u001b[1;36m4\u001b[0m\u001b[1;33m]\u001b[0m\u001b[1;33m)\u001b[0m\u001b[1;33m\u001b[0m\u001b[1;33m\u001b[0m\u001b[0m\n\u001b[0m\u001b[0;32m     11\u001b[0m \u001b[0mraw\u001b[0m \u001b[1;33m=\u001b[0m \u001b[0mfilter\u001b[0m\u001b[1;33m(\u001b[0m\u001b[1;36m1\u001b[0m\u001b[1;33m,\u001b[0m\u001b[1;36m30\u001b[0m\u001b[1;33m,\u001b[0m \u001b[0mmethod\u001b[0m\u001b[1;33m=\u001b[0m\u001b[1;34m'iir'\u001b[0m\u001b[1;33m)\u001b[0m\u001b[1;33m\u001b[0m\u001b[1;33m\u001b[0m\u001b[0m\n\u001b[0;32m     12\u001b[0m \u001b[0mraw\u001b[0m\u001b[1;33m.\u001b[0m\u001b[0mplot_psd\u001b[0m\u001b[1;33m(\u001b[0m\u001b[0mfmin\u001b[0m\u001b[1;33m=\u001b[0m\u001b[1;36m1\u001b[0m\u001b[1;33m,\u001b[0m \u001b[0mfmax\u001b[0m\u001b[1;33m=\u001b[0m\u001b[1;36m30\u001b[0m\u001b[1;33m)\u001b[0m\u001b[1;33m\u001b[0m\u001b[1;33m\u001b[0m\u001b[0m\n",
      "\u001b[1;31mAttributeError\u001b[0m: module 'utils.data_analysis.analysis_lib' has no attribute 'load_csv_as_raw'"
     ]
    }
   ],
   "source": [
    "# Initial Test \n",
    "type = \"audio\"\n",
    "duration = 20\n",
    "file_name_raw = \"C:\\\\Users\\\\matil\\\\Desktop\\\\FYP\\\\code_env\\\\eeg-notebooks\\\\FYP\\\\data\\\\test\\\\data_muse_raw.csv\"\n",
    "file_name_marked = \"C:\\\\Users\\\\matil\\\\Desktop\\\\FYP\\\\code_env\\\\eeg-notebooks\\\\FYP\\\\data\\\\test\\\\data_muse_marked.csv\"\n",
    "file_name_synched =\"C:\\\\Users\\\\matil\\\\Desktop\\\\FYP\\\\code_env\\\\eeg-notebooks\\\\FYP\\\\data\\\\test\\\\data_muse_synch.csv\"\n",
    "\n",
    "experiment_lib.run_trial(type, duration, file_name_raw = file_name_raw, file_name_marked = file_name_marked, file_name_synched =file_name_synched)\n",
    "\n",
    "raw = data.load_csv_as_raw([file_name_raw ],256, [1,2,3, 4])\n",
    "raw.filter(1,30, method='iir')\n",
    "raw.plot_psd(fmin=1, fmax=30)"
   ]
  },
  {
   "cell_type": "code",
   "execution_count": null,
   "metadata": {},
   "outputs": [],
   "source": [
    "# TRIAL 1\n",
    "type = \"AudioVisual\"\n",
    "\n",
    "session_n = \"1\"\n",
    "\n",
    "data_path = os.path.join(os.path.expanduser('~/'),'Desktop', 'FYP', 'code_env', 'eeg-notebooks','FYP', 'data', type, subject_id, session_n)\n",
    "file_name_raw = os.path.join(data_path, 'eeg.csv')\n",
    "file_name_marked = os.path.join(data_path, 'markers.csv')\n",
    "file_name_synched = os.path.join(data_path, 'synched_data.csv')\n",
    "\n",
    "\n",
    "experiment_lib.run_trial(type= \"audio\", duration = record_duration, file_name_raw = file_name_raw, file_name_marked = file_name_marked, file_name_synched = file_name_synched)\n",
    "\n"
   ]
  },
  {
   "cell_type": "code",
   "execution_count": null,
   "metadata": {},
   "outputs": [],
   "source": [
    "# TRIAL 2\n",
    "type = \"AudioVisual\"\n",
    "\n",
    "session_n = \"2\"\n",
    "\n",
    "data_path = os.path.join(os.path.expanduser('~/'),'Desktop', 'FYP', 'code_env', 'eeg-notebooks','FYP', 'data', type, subject_id, session_n)\n",
    "file_name_raw = os.path.join(data_path, 'eeg.csv')\n",
    "file_name_marked = os.path.join(data_path, 'markers.csv')\n",
    "file_name_synched = os.path.join(data_path, 'synched_data.csv')\n",
    "\n",
    "\n",
    "experiment_lib.run_trial(type= \"audio\", duration = record_duration, file_name_raw = file_name_raw, file_name_marked = file_name_marked, file_name_synched = file_name_synched)\n"
   ]
  },
  {
   "attachments": {},
   "cell_type": "markdown",
   "metadata": {},
   "source": [
    "------------------\n",
    "*VIBRO EXPERIMENT*\n",
    "--------------------"
   ]
  },
  {
   "cell_type": "code",
   "execution_count": null,
   "metadata": {},
   "outputs": [],
   "source": [
    "# Initial Test \n",
    "type = \"vibro\"\n",
    "duration = 20\n",
    "file_name_raw = \"C:\\\\Users\\\\matil\\\\Desktop\\\\FYP\\\\code_env\\\\eeg-notebooks\\\\FYP\\\\data\\\\test\\\\data_muse_raw.csv\"\n",
    "file_name_marked = \"C:\\\\Users\\\\matil\\\\Desktop\\\\FYP\\\\code_env\\\\eeg-notebooks\\\\FYP\\\\data\\\\test\\\\data_muse_marked.csv\"\n",
    "file_name_synched =\"C:\\\\Users\\\\matil\\\\Desktop\\\\FYP\\\\code_env\\\\eeg-notebooks\\\\FYP\\\\data\\\\test\\\\data_muse_synch.csv\"\n",
    "\n",
    "experiment_lib.run_trial(type, duration, file_name_raw = file_name_raw, file_name_marked = file_name_marked, file_name_synched =file_name_synched)\n",
    "\n",
    "raw = data.load_csv_as_raw([file_name_raw ],256, [1,2,3, 4])\n",
    "raw.filter(1,30, method='iir')\n",
    "raw.plot_psd(fmin=1, fmax=30)"
   ]
  },
  {
   "cell_type": "code",
   "execution_count": null,
   "metadata": {},
   "outputs": [],
   "source": [
    "# TRIAL 1\n",
    "type = \"VibroVisual\"\n",
    "\n",
    "session_n = \"1\"\n",
    "\n",
    "data_path = os.path.join(os.path.expanduser('~/'),'Desktop', 'FYP', 'code_env', 'eeg-notebooks','FYP', 'data', type, subject_id, session_n)\n",
    "file_name_raw = os.path.join(data_path, 'eeg.csv')\n",
    "file_name_marked = os.path.join(data_path, 'markers.csv')\n",
    "file_name_synched = os.path.join(data_path, 'synched_data.csv')\n",
    "\n",
    "\n",
    "experiment_lib.run_trial(type = \"vibro\", duration = record_duration, file_name_raw = file_name_raw, file_name_marked = file_name_marked, file_name_synched = file_name_synched)\n",
    "\n"
   ]
  },
  {
   "cell_type": "code",
   "execution_count": null,
   "metadata": {},
   "outputs": [],
   "source": [
    "# TRIAL 2\n",
    "type = \"VibroVisual\"\n",
    "\n",
    "session_n = \"2\"\n",
    "\n",
    "data_path = os.path.join(os.path.expanduser('~/'),'Desktop', 'FYP', 'code_env', 'eeg-notebooks','FYP', 'data', type, subject_id, session_n)\n",
    "file_name_raw = os.path.join(data_path, 'eeg.csv')\n",
    "file_name_marked = os.path.join(data_path, 'markers.csv')\n",
    "file_name_synched = os.path.join(data_path, 'synched_data.csv')\n",
    "\n",
    "\n",
    "experiment_lib.run_trial(type = \"vibro\", duration = record_duration, file_name_raw = file_name_raw, file_name_marked = file_name_marked, file_name_synched = file_name_synched)\n"
   ]
  },
  {
   "attachments": {},
   "cell_type": "markdown",
   "metadata": {},
   "source": [
    "------------\n",
    "*SHAPE EXPERIMENT*\n",
    "---------------"
   ]
  },
  {
   "cell_type": "code",
   "execution_count": null,
   "metadata": {},
   "outputs": [],
   "source": [
    "# Initial Test \n",
    "type = \"shape\"\n",
    "duration = 20\n",
    "file_name_raw = \"C:\\\\Users\\\\matil\\\\Desktop\\\\FYP\\\\code_env\\\\eeg-notebooks\\\\FYP\\\\data\\\\test\\\\data_muse_raw.csv\"\n",
    "file_name_marked = \"C:\\\\Users\\\\matil\\\\Desktop\\\\FYP\\\\code_env\\\\eeg-notebooks\\\\FYP\\\\data\\\\test\\\\data_muse_marked.csv\"\n",
    "file_name_synched =\"C:\\\\Users\\\\matil\\\\Desktop\\\\FYP\\\\code_env\\\\eeg-notebooks\\\\FYP\\\\data\\\\test\\\\data_muse_synch.csv\"\n",
    "\n",
    "experiment_lib.run_trial(type, duration, file_name_raw = file_name_raw, file_name_marked = file_name_marked, file_name_synched =file_name_synched)\n",
    "\n",
    "raw = data.load_csv_as_raw([file_name_raw ],256, [1,2,3, 4])\n",
    "raw.filter(1,30, method='iir')\n",
    "raw.plot_psd(fmin=1, fmax=30)"
   ]
  },
  {
   "cell_type": "code",
   "execution_count": null,
   "metadata": {},
   "outputs": [],
   "source": [
    "# TRIAL 1\n",
    "type = \"ShapeVisual\"\n",
    "\n",
    "session_n = \"1\"\n",
    "\n",
    "data_path = os.path.join(os.path.expanduser('~/'),'Desktop', 'FYP', 'code_env', 'eeg-notebooks','FYP', 'data', type, subject_id, session_n)\n",
    "\n",
    "file_name_raw = os.path.join(data_path, 'eeg.csv')\n",
    "file_name_marked = os.path.join(data_path, 'markers.csv')\n",
    "file_name_synched = os.path.join(data_path, 'synched_data.csv')\n",
    "\n",
    "experiment_lib.run_trial(type = \"shape\", duration = record_duration, file_name_raw = file_name_raw, file_name_marked = file_name_marked, file_name_synched = file_name_synched)\n"
   ]
  },
  {
   "cell_type": "code",
   "execution_count": null,
   "metadata": {},
   "outputs": [],
   "source": [
    "# TRIAL 2\n",
    "type = \"ShapeVisual\"\n",
    "\n",
    "session_n = \"2\"\n",
    "\n",
    "data_path = os.path.join(os.path.expanduser('~/'),'Desktop', 'FYP', 'code_env', 'eeg-notebooks','FYP', 'data', type, subject_id, session_n)\n",
    "\n",
    "file_name_raw = os.path.join(data_path, 'eeg.csv')\n",
    "file_name_marked = os.path.join(data_path, 'markers.csv')\n",
    "file_name_synched = os.path.join(data_path, 'synched_data.csv')\n",
    "\n",
    "experiment_lib.run_trial(type = \"shape\", duration = record_duration, file_name_raw = file_name_raw, file_name_marked = file_name_marked, file_name_synched = file_name_synched)\n"
   ]
  }
 ],
 "metadata": {
  "kernelspec": {
   "display_name": "eeg-notebooks",
   "language": "python",
   "name": "python3"
  },
  "language_info": {
   "codemirror_mode": {
    "name": "ipython",
    "version": 3
   },
   "file_extension": ".py",
   "mimetype": "text/x-python",
   "name": "python",
   "nbconvert_exporter": "python",
   "pygments_lexer": "ipython3",
   "version": "3.7.15"
  },
  "orig_nbformat": 4
 },
 "nbformat": 4,
 "nbformat_minor": 2
}
