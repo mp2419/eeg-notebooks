{
 "cells": [
  {
   "attachments": {},
   "cell_type": "markdown",
   "metadata": {},
   "source": [
    "To perform statistical entropy analysis in Python for EEG data, you can use libraries such as nolds or pyEEG. These libraries provide functions to calculate different types of entropy measures, including approximate entropy (ApEn), sample entropy (SampEn), and permutation entropy (PermEn)\n",
    "\n",
    "Shannon Entropy: Shannon entropy is a widely used measure of uncertainty or information content in a signal. It quantifies the amount of information or randomness present in the signal. It can be useful for analyzing the overall complexity of EEG signals.\n",
    "\n",
    "Approximate Entropy (ApEn): Approximate entropy is a measure of regularity or complexity in time series data. It quantifies the likelihood that similar patterns repeat in the signal. ApEn can be helpful in assessing the complexity of EEG signals and detecting changes in regularity.\n",
    "\n",
    "Sample Entropy (SampEn): Sample entropy is a variation of approximate entropy that addresses some limitations of ApEn. It measures the likelihood of similar patterns repeating in a signal while also taking into account self-matches of shorter patterns. SampEn can provide insights into the complexity and irregularity of EEG signals.\n",
    "\n",
    "Renyi Entropy: Renyi entropy is a generalization of Shannon entropy that includes a parameter to control the level of sensitivity to different probability distributions. It provides a measure of the diversity or variability in the signal.\n",
    "\n",
    "Permutation Entropy: Permutation entropy measures the amount of disorder or randomness in the order of patterns in a signal. It considers the relative order of values rather than their actual magnitudes. Permutation entropy can be useful in characterizing the complexity and irregularity of EEG signals."
   ]
  },
  {
   "attachments": {},
   "cell_type": "markdown",
   "metadata": {},
   "source": [
    "-----------\n",
    "Permutation Entropy\n",
    "----------"
   ]
  },
  {
   "cell_type": "code",
   "execution_count": 16,
   "metadata": {},
   "outputs": [
    {
     "name": "stdout",
     "output_type": "stream",
     "text": [
      "Computing entropy for trial AudioVisual_04_1.fif\n",
      "Computing entropy for trial AudioVisual_06_1.fif\n",
      "Computing entropy for trial ShapeVisual_03_1.fif\n",
      "Computing entropy for trial ShapeVisual_04_1.fif\n",
      "Computing entropy for trial VibroVisual_06_1.fif\n",
      "Computing entropy for trial VibroVisual_03_1.fif\n"
     ]
    }
   ],
   "source": [
    "import numpy as np\n",
    "from scipy.stats import entropy\n",
    "import mne, os\n",
    "from mne import Epochs\n",
    "from pyentrp import entropy as py_entropy\n",
    "\n",
    "mne.set_log_level(\"ERROR\")\n",
    "raw_folder = os.path.join(os.path.expanduser('~/'),'Desktop', 'FYP', 'code_env', 'eeg-notebooks','FYP', 'data_ordered', 'mne_raw')\n",
    "raw_files = [file for file in os.listdir(raw_folder) if file.endswith(\"_1.fif\")]\n",
    "marker_mapping = {\"blue\": 1, \"red\": 2, \"right\": 3, \"left\": 4, \"right arrow\": 5, \"left arrow\": 6}\n",
    "duration = 30.0  # Duration of each epoch (seconds)\n",
    "event_ids = {'left': 4, 'right': 3}  # Replace with your event IDs\n",
    "tmin, tmax = -0.3, 0.7\n",
    "evokeds_left = {}\n",
    "evokeds_right = {}\n",
    "\n",
    "entropy_audio_dic = {\"TP9\":[], \"AF7\":[], \"AF8\":[], \"TP10\":[]}\n",
    "entropy_shape_dic = {\"TP9\":[], \"AF7\":[], \"AF8\":[], \"TP10\":[]}\n",
    "entropy_vibro_dic = {\"TP9\":[], \"AF7\":[], \"AF8\":[], \"TP10\":[]}\n",
    "keys_below_30_1 = ['AudioVisual_04_1.fif',  'AudioVisual_06_1.fif', 'ShapeVisual_03_1.fif', 'ShapeVisual_04_1.fif', 'VibroVisual_06_1.fif', 'VibroVisual_03_1.fif']\n",
    "keys_below_30_2 = ['AudioVisual_04_2.fif', 'AudioVisual_06_2.fif', 'ShapeVisual_03_2.fif', 'ShapeVisual_04_2.fif', 'ShapeVisual_06_2.fif', 'VibroVisual_02_2.fif','VibroVisual_03_2.fif']\n",
    "\n",
    "# Process each raw file and extract evoked response\n",
    "for file in keys_below_30_1:\n",
    "    print(\"Computing entropy for trial\",file)\n",
    "    raw_path = os.path.join(raw_folder, file)\n",
    "    raw = mne.io.read_raw_fif(raw_path, preload=True)\n",
    "    data = raw.get_data()\n",
    "    events, event_id= mne.events_from_annotations(raw, event_id=marker_mapping)\n",
    "    epochs = Epochs(raw, events=events, event_id=event_ids, tmin=-0.3, tmax=0.7, baseline=None, preload=True)\n",
    "\n",
    "    # Compute entropy for each channel\n",
    "    entropy_values = []\n",
    "    for ch_name in raw.ch_names:\n",
    "        # This will give you an Epochs object containing only the data for the current channel\n",
    "        channel_epochs = epochs.copy().pick_channels([ch_name])\n",
    "        channel_data = channel_epochs.get_data().reshape(-1)\n",
    "        channel_entropy = py_entropy.permutation_entropy(channel_data, 3, 1)\n",
    "        entropy_values.append(channel_entropy)\n",
    "        \n",
    "        if not np.any(np.isnan(entropy_values)):\n",
    "            if \"Shape\" in file:\n",
    "                entropy_shape_dic[ch_name].append(entropy_values)   \n",
    "            elif \"Audio\" in file:\n",
    "                entropy_audio_dic[ch_name].append(entropy_values) \n",
    "            elif \"Vibro\" in file:\n",
    "                entropy_vibro_dic[ch_name].append(entropy_values)\n",
    "\n",
    "    # # Print the entropy values for each channel\n",
    "    # for channel_idx, entropy_value in enumerate(entropy_values):\n",
    "    #     print(f'Channel {channel_idx + 1}: {entropy_value}')\n",
    "            \n",
    "\n"
   ]
  },
  {
   "cell_type": "code",
   "execution_count": 18,
   "metadata": {},
   "outputs": [
    {
     "name": "stdout",
     "output_type": "stream",
     "text": [
      "Computing entropy for trial AudioVisual_04_2.fif\n",
      "Computing entropy for trial AudioVisual_06_2.fif\n",
      "Computing entropy for trial ShapeVisual_03_2.fif\n",
      "Computing entropy for trial ShapeVisual_04_2.fif\n",
      "Computing entropy for trial ShapeVisual_06_2.fif\n",
      "Computing entropy for trial VibroVisual_02_2.fif\n",
      "Computing entropy for trial VibroVisual_03_2.fif\n"
     ]
    }
   ],
   "source": [
    "import numpy as np\n",
    "from scipy.stats import entropy\n",
    "import mne, os\n",
    "from mne import Epochs\n",
    "from pyentrp import entropy as py_entropy\n",
    "\n",
    "mne.set_log_level(\"ERROR\")\n",
    "raw_folder = os.path.join(os.path.expanduser('~/'),'Desktop', 'FYP', 'code_env', 'eeg-notebooks','FYP', 'data_ordered', 'mne_raw')\n",
    "raw_files = [file for file in os.listdir(raw_folder) if file.endswith(\"_2.fif\")]\n",
    "marker_mapping = {\"blue\": 1, \"red\": 2, \"right\": 3, \"left\": 4, \"right arrow\": 5, \"left arrow\": 6}\n",
    "duration = 30.0  # Duration of each epoch (seconds)\n",
    "event_ids = {'left': 4, 'right': 3}  # Replace with your event IDs\n",
    "tmin, tmax = -0.3, 0.7\n",
    "evokeds_left = {}\n",
    "evokeds_right = {}\n",
    "\n",
    "entropy_audio_dic = {\"TP9\":[], \"AF7\":[], \"AF8\":[], \"TP10\":[]}\n",
    "entropy_shape_dic = {\"TP9\":[], \"AF7\":[], \"AF8\":[], \"TP10\":[]}\n",
    "entropy_vibro_dic = {\"TP9\":[], \"AF7\":[], \"AF8\":[], \"TP10\":[]}\n",
    "\n",
    "# Process each raw file and extract evoked response\n",
    "for file in keys_below_30_2:\n",
    "    print(\"Computing entropy for trial\",file)\n",
    "    raw_path = os.path.join(raw_folder, file)\n",
    "    raw = mne.io.read_raw_fif(raw_path, preload=True)\n",
    "    data = raw.get_data()\n",
    "    events, event_id= mne.events_from_annotations(raw, event_id=marker_mapping)\n",
    "    epochs = Epochs(raw, events=events, event_id=event_ids, tmin=-0.3, tmax=0.7, baseline=None, preload=True)\n",
    "\n",
    "    # Compute entropy for each channel\n",
    "    entropy_values = []\n",
    "    for ch_name in raw.ch_names:\n",
    "        # This will give you an Epochs object containing only the data for the current channel\n",
    "        channel_epochs = epochs.copy().pick_channels([ch_name])\n",
    "        channel_data = channel_epochs.get_data().reshape(-1)\n",
    "        channel_entropy = py_entropy.permutation_entropy(channel_data, 3, 1)\n",
    "        entropy_values.append(channel_entropy)\n",
    "        \n",
    "        if not np.any(np.isnan(entropy_values)):\n",
    "            if \"Shape\" in file:\n",
    "                entropy_shape_dic[ch_name].append(entropy_values)   \n",
    "            elif \"Audio\" in file:\n",
    "                entropy_audio_dic[ch_name].append(entropy_values) \n",
    "            elif \"Vibro\" in file:\n",
    "                entropy_vibro_dic[ch_name].append(entropy_values)\n",
    "\n",
    "    # # Print the entropy values for each channel\n",
    "    # for channel_idx, entropy_value in enumerate(entropy_values):\n",
    "    #     print(f'Channel {channel_idx + 1}: {entropy_value}')\n",
    "            \n",
    "\n"
   ]
  },
  {
   "cell_type": "code",
   "execution_count": 2,
   "metadata": {},
   "outputs": [
    {
     "name": "stdout",
     "output_type": "stream",
     "text": [
      "[[2.0612664108109637, 2.0292518574112974, 2.058857793322028, 2.0731944722077813], [2.0814987090868904, 2.0758498985884826, 2.078096720894668, 2.071980608304488], [1.9631552000694288, 1.990835164554389, 2.0026754289728728, 1.9666489466731796], [1.9068689648501156, 2.0130001495357184, 2.0069722586904173, 1.979931807205778], [1.9954270305428938, 2.07621938007862, 2.031033505048538, 1.9330824517891063], [1.831794434488342, 2.0089593700442077, 1.9509863852075813, 1.8680582357539113], [2.079842882240269, 2.0837170952498485, 2.0946435109109305, 2.0744067301426927], [1.9513066039283797, 1.9383127135337475, 1.8826294002558683, 2.0224647741254063], [1.9814003998644438, 2.052058041881428, 2.0262143259240224, 1.9479453039855734], [2.1209733892280527, 2.037109545984196, 2.0481038862589402, 2.112539889022737]]\n",
      "[[2.0612664108109637, 2.0292518574112974, 2.058857793322028, 2.0731944722077813], [2.0814987090868904, 2.0758498985884826, 2.078096720894668, 2.071980608304488], [1.9631552000694288, 1.990835164554389, 2.0026754289728728, 1.9666489466731796], [1.9068689648501156, 2.0130001495357184, 2.0069722586904173, 1.979931807205778], [1.9954270305428938, 2.07621938007862, 2.031033505048538, 1.9330824517891063], [1.831794434488342, 2.0089593700442077, 1.9509863852075813, 1.8680582357539113], [2.079842882240269, 2.0837170952498485, 2.0946435109109305, 2.0744067301426927], [1.9513066039283797, 1.9383127135337475, 1.8826294002558683, 2.0224647741254063], [1.9814003998644438, 2.052058041881428, 2.0262143259240224, 1.9479453039855734], [2.1209733892280527, 2.037109545984196, 2.0481038862589402, 2.112539889022737]]\n"
     ]
    }
   ],
   "source": [
    "print(entropy_audio_dic['TP9'])\n",
    "print(entropy_audio_dic['TP10'])"
   ]
  },
  {
   "cell_type": "code",
   "execution_count": 19,
   "metadata": {},
   "outputs": [
    {
     "name": "stdout",
     "output_type": "stream",
     "text": [
      "(2, 4)\n",
      "Audio [1.87139148 2.00508891 1.99703733 1.92528072] [0.02012461 0.00176791 0.00199619 0.00241575]\n",
      "Vibro [2.05196526 2.06409291 2.06793899 2.05756893] [0.00115611 0.01606667 0.01943619 0.01539866]\n",
      "Shape [1.94042149 2.0383209  2.01618318 1.95686106] [0.06478855 0.0194537  0.0210515  0.06081169]\n",
      "Variables saved to JSON file: entropy.json\n"
     ]
    }
   ],
   "source": [
    "import matplotlib.pyplot as plt\n",
    "import numpy as np\n",
    "import json\n",
    "ch= 'TP9'\n",
    "entropy_audio = np.array(entropy_audio_dic[ch])\n",
    "audio_entropy_mean = np.mean(entropy_audio, axis=0)\n",
    "audio_entropy_std = np.std(entropy_audio, axis=0)\n",
    "print(entropy_audio.shape)\n",
    "entropy_vibro = np.array(entropy_vibro_dic[ch])\n",
    "vibro_entropy_mean = np.mean(entropy_vibro, axis=0)\n",
    "vibro_entropy_std = np.std(entropy_vibro, axis=0)\n",
    "\n",
    "entropy_shape = np.array(entropy_shape_dic[ch])\n",
    "shape_entropy_mean = np.mean(entropy_shape, axis=0)\n",
    "shape_entropy_std = np.std(entropy_shape, axis=0)\n",
    "\n",
    "# entropy_audio = entropy_audio[np.isfinite(entropy_audio)]\n",
    "# entropy_vibro = entropy_vibro[np.isfinite(entropy_vibro)]\n",
    "# entropy_shape = entropy_shape[np.isfinite(entropy_shape)]\n",
    "\n",
    "json_file_path = 'entropy.json'\n",
    "entropy2 = {\"Audio\": entropy_audio, \"Vibro\": entropy_vibro, \"Shape\": entropy_shape}\n",
    "\n",
    "print(\"Audio\", audio_entropy_mean, audio_entropy_std)\n",
    "print(\"Vibro\", vibro_entropy_mean, vibro_entropy_std)\n",
    "print(\"Shape\", shape_entropy_mean, shape_entropy_std)\n",
    "\n",
    "#num_channels = entropy_audio.shape[1]\n",
    "\n",
    "# Generate x-axis values (assuming equal length arrays)\n",
    "x = np.arange(28)\n",
    "\n",
    "# # Plotting for each channel\n",
    "# #for channel in range(1):\n",
    "# channel = 0\n",
    "# plt.plot(x, entropy['Audio'][0,:28], label=f'Audio Channel TP9', marker='o')\n",
    "# plt.plot(x, entropy['Vibro'][0,:28], label=f'Vibro Channel TP9', marker='o')\n",
    "# plt.plot(x, entropy['Shape'][0,:28], label=f'Shape Channel TP9', marker='o')\n",
    "\n",
    "# # Add labels, title, and legend for each plot\n",
    "# plt.xlabel('Epoch Number')\n",
    "# plt.ylabel('Entropy')\n",
    "# plt.title(f'Entropy Comparison for Channel {ch}')\n",
    "# plt.legend()\n",
    "\n",
    "# # Show the plot\n",
    "# plt.show()\n",
    "\n",
    "entropy_array = (np.array(entropy2.copy).shape)\n",
    "# Save the variables to a JSON file\n",
    "with open(json_file_path, 'w') as file:\n",
    "    json.dump(entropy_array, file, indent=4)\n",
    "print(\"Variables saved to JSON file:\", json_file_path)"
   ]
  },
  {
   "attachments": {},
   "cell_type": "markdown",
   "metadata": {},
   "source": [
    "-------\n",
    "Statistical Analysis SE\n",
    "--------"
   ]
  },
  {
   "cell_type": "code",
   "execution_count": 48,
   "metadata": {},
   "outputs": [
    {
     "name": "stdout",
     "output_type": "stream",
     "text": [
      "[[2.06126641 2.02925186 2.05885779 2.07319447]\n",
      " [2.03465409 2.06421733 2.05762138 2.07695528]\n",
      " [2.08149871 2.0758499  2.07809672 2.07198061]\n",
      " [1.9631552  1.99083516 2.00267543 1.96664895]\n",
      " [1.98298587 2.0096693  2.0137756  2.00226651]\n",
      " [1.90686896 2.01300015 2.00697226 1.97993181]\n",
      " [1.89151609 2.00685682 1.99504114 1.92769648]\n",
      " [1.99542703 2.07621938 2.03103351 1.93308245]\n",
      " [1.97246408 2.07412589 2.02644475 2.03559708]\n",
      " [1.83179443 2.00895937 1.95098639 1.86805824]\n",
      " [1.85126688 2.003321   1.99903353 1.92286497]\n",
      " [2.07984288 2.0837171  2.09464351 2.07440673]\n",
      " [2.07736098 2.08560328 2.09400519 2.0744274 ]\n",
      " [1.9513066  1.93831271 1.8826294  2.02246477]\n",
      " [1.94971357 1.93235024 1.91298722 1.93520164]\n",
      " [1.9814004  2.05205804 2.02621433 1.9479453 ]\n",
      " [1.94641818 2.04680874 2.03975675 1.90674561]\n",
      " [2.12097339 2.03710955 2.04810389 2.11253989]\n",
      " [2.12616693 2.02432979 2.08405396 2.09780095]]\n"
     ]
    }
   ],
   "source": [
    "print(entropy['Audio'])"
   ]
  },
  {
   "cell_type": "code",
   "execution_count": 20,
   "metadata": {},
   "outputs": [
    {
     "name": "stdout",
     "output_type": "stream",
     "text": [
      "A\n",
      "ANOVA results for channel 0\n",
      "p-values: 0.9658233979314357\n",
      "ANOVA results for channel 1\n",
      "p-values: 0.15945382854400783\n",
      "ANOVA results for channel 2\n",
      "p-values: 0.5858592383637817\n",
      "ANOVA results for channel 3\n",
      "p-values: 0.9837645261507255\n",
      "S\n",
      "ANOVA results for 0\n",
      "p-values: 0.9390506548586038\n",
      "ANOVA results for 1\n",
      "p-values: 0.858846320095864\n",
      "ANOVA results for 2\n",
      "p-values: 0.5272665219408856\n",
      "ANOVA results for 3\n",
      "p-values: 0.6866625969154525\n",
      "V\n",
      "ANOVA results for 0\n",
      "p-values: 0.3625015224262873\n",
      "ANOVA results for 1\n",
      "p-values: 0.2829488466352009\n",
      "ANOVA results for 2\n",
      "p-values: 0.21945539379049775\n",
      "ANOVA results for 3\n",
      "p-values: 0.1865618146274394\n"
     ]
    }
   ],
   "source": [
    "import scipy.stats as stats\n",
    "from scipy.stats import f_oneway\n",
    "# Perform the Brown-Forsythe test\n",
    "num_channels = 4#entropy_audio.shape[1]\n",
    "\n",
    "# Generate x-axis values (assuming equal length arrays)\n",
    "x = np.arange(14)\n",
    "\n",
    "print(\"A\")\n",
    "# Plotting for each channel\n",
    "for channel in range(num_channels):\n",
    "    # _, p_value = stats.levene(entropy1['Audio'][:, channel], entropy2['Audio'][:, channel], center='median')\n",
    "\n",
    "    # # Print the results\n",
    "    # if p_value < 0.05:\n",
    "    #     print(\"The variances are significantly different (p < 0.05), violating the assumption of homogeneous variance.\")\n",
    "    # else:\n",
    "    #     print(\"The variances are not significantly different (p >= 0.05), supporting the assumption of homogeneous variance.\", p_value)\n",
    "\n",
    "    f_value, p_value = f_oneway(entropy1['Audio'][:, channel], entropy2['Audio'][:, channel])\n",
    "\n",
    "    print(f\"ANOVA results for channel {channel}\")\n",
    "    print(\"p-values:\", p_value )\n",
    "\n",
    "print(\"S\")\n",
    "# Plotting for each channel\n",
    "for channel in range(num_channels):\n",
    "    # _, p_value = stats.levene(entropy1['Shape'][:, channel], entropy2['Shape'][:, channel], center='median')\n",
    "\n",
    "    # # Print the results\n",
    "    # if p_value < 0.05:\n",
    "    #     print(\"The variances are significantly different (p < 0.05), violating the assumption of homogeneous variance.\")\n",
    "    # else:\n",
    "    #     print(\"The variances are not significantly different (p >= 0.05), supporting the assumption of homogeneous variance.\", p_value)\n",
    "\n",
    "    f_value, p_value = f_oneway(entropy1['Shape'][:, channel], entropy2['Shape'][:, channel])\n",
    "\n",
    "    print(f\"ANOVA results for {channel}\")\n",
    "    print(\"p-values:\", p_value )\n",
    "\n",
    "print(\"V\")\n",
    "# Plotting for each channel\n",
    "for channel in range(num_channels):\n",
    "    # _, p_value = stats.levene(entropy1['Vibro'][:, channel], entropy2['Vibro'][:, channel], center='median')\n",
    "\n",
    "    # # Print the results\n",
    "    # if p_value < 0.05:\n",
    "    #     print(\"The variances are significantly different (p < 0.05), violating the assumption of homogeneous variance.\")\n",
    "    # else:\n",
    "    #     print(\"The variances are not significantly different (p >= 0.05), supporting the assumption of homogeneous variance.\", p_value)\n",
    "\n",
    "    f_value, p_value = f_oneway(entropy1['Vibro'][:, channel], entropy2['Vibro'][:, channel])\n",
    "\n",
    "    print(f\"ANOVA results for {channel}\")\n",
    "    print(\"p-values:\", p_value )\n"
   ]
  },
  {
   "attachments": {},
   "cell_type": "markdown",
   "metadata": {},
   "source": [
    "-------------\n",
    "Approximate Entropy ApEn\n",
    "--------------"
   ]
  },
  {
   "cell_type": "code",
   "execution_count": 1,
   "metadata": {},
   "outputs": [
    {
     "ename": "ModuleNotFoundError",
     "evalue": "No module named 'pyeeg'",
     "output_type": "error",
     "traceback": [
      "\u001b[1;31m---------------------------------------------------------------------------\u001b[0m",
      "\u001b[1;31mModuleNotFoundError\u001b[0m                       Traceback (most recent call last)",
      "\u001b[1;32m~\\AppData\\Local\\Temp\\ipykernel_24220\\3639682459.py\u001b[0m in \u001b[0;36m<module>\u001b[1;34m\u001b[0m\n\u001b[0;32m      2\u001b[0m \u001b[1;33m\u001b[0m\u001b[0m\n\u001b[0;32m      3\u001b[0m \u001b[1;32mimport\u001b[0m \u001b[0mnumpy\u001b[0m \u001b[1;32mas\u001b[0m \u001b[0mnp\u001b[0m\u001b[1;33m\u001b[0m\u001b[1;33m\u001b[0m\u001b[0m\n\u001b[1;32m----> 4\u001b[1;33m \u001b[1;32mimport\u001b[0m \u001b[0mpyeeg\u001b[0m\u001b[1;33m\u001b[0m\u001b[1;33m\u001b[0m\u001b[0m\n\u001b[0m\u001b[0;32m      5\u001b[0m \u001b[1;33m\u001b[0m\u001b[0m\n\u001b[0;32m      6\u001b[0m \u001b[1;31m# Load the EEG data as a NumPy array\u001b[0m\u001b[1;33m\u001b[0m\u001b[1;33m\u001b[0m\u001b[1;33m\u001b[0m\u001b[0m\n",
      "\u001b[1;31mModuleNotFoundError\u001b[0m: No module named 'pyeeg'"
     ]
    }
   ],
   "source": [
    "#------------approximate Entropy ApEn\n",
    "\n",
    "import numpy as np\n",
    "import pyeeg\n",
    "\n",
    "# Load the EEG data as a NumPy array\n",
    "data = np.loadtxt('eeg_data.txt')\n",
    "\n",
    "# Compute approximate entropy for each channel\n",
    "entropy_values = []\n",
    "for channel_data in data:\n",
    "    entropy_value = pyeeg.ap_entropy(channel_data)\n",
    "    entropy_values.append(entropy_value)\n",
    "\n",
    "# Print the entropy values for each channel\n",
    "for channel_idx, entropy_value in enumerate(entropy_values):\n",
    "    print(f'Channel {channel_idx + 1}: {entropy_value}')\n"
   ]
  },
  {
   "cell_type": "code",
   "execution_count": null,
   "metadata": {},
   "outputs": [],
   "source": [
    "import numpy as np\n",
    "from nolds import entropy\n",
    "import mne\n",
    "\n",
    "# Load the EEG data using MNE Raw object\n",
    "raw = mne.io.read_raw_edf('your_eeg_file.edf', preload=True)\n",
    "\n",
    "# Extract the data as a NumPy array\n",
    "data = raw.get_data()\n",
    "\n",
    "# Compute statistical entropy for each channel\n",
    "entropy_values = []\n",
    "for channel_data in data:\n",
    "    entropy_value = entropy(channel_data, emb_dim=10, r=0.1)\n",
    "    entropy_values.append(entropy_value)\n",
    "\n",
    "# Print the entropy values for each channel\n",
    "for channel_idx, entropy_value in enumerate(entropy_values):\n",
    "    print(f'Channel {channel_idx + 1}: {entropy_value}')\n"
   ]
  }
 ],
 "metadata": {
  "kernelspec": {
   "display_name": "eeg-notebooks",
   "language": "python",
   "name": "python3"
  },
  "language_info": {
   "codemirror_mode": {
    "name": "ipython",
    "version": 3
   },
   "file_extension": ".py",
   "mimetype": "text/x-python",
   "name": "python",
   "nbconvert_exporter": "python",
   "pygments_lexer": "ipython3",
   "version": "3.7.15"
  },
  "orig_nbformat": 4
 },
 "nbformat": 4,
 "nbformat_minor": 2
}
