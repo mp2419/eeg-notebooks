{
 "cells": [
  {
   "cell_type": "code",
   "execution_count": null,
   "metadata": {},
   "outputs": [],
   "source": [
    "import numpy as np\n",
    "from matplotlib import pyplot as plt\n",
    "import mne, os\n",
    "import json\n",
    "\n",
    "with open('C:\\\\Users\\\\matil\\\\Desktop\\\\FYP\\\\code_env\\\\eeg-notebooks\\\\FYP\\\\results_data\\\\Outliers_7030.json', 'r') as file:\n",
    "    data = json.load(file)\n",
    "keys_below_30 = []\n",
    "for key, values in data.items():\n",
    "    if all(value < 50 for value in values):\n",
    "        key = key.replace('.json', '.fif')\n",
    "        keys_below_30.append(key)\n",
    "\n",
    "to_add = ['VibroVisual_02_2.fif','VibroVisual_03_1.fif','VibroVisual_03_2.fif'] #'VibroVisual_10_2.fif',\n",
    "for i in to_add:\n",
    "    keys_below_30.append(i)\n",
    "\n",
    "print(keys_below_30)\n",
    "keys_below_30 = ['AudioVisual_04_1.fif', 'AudioVisual_04_2.fif', 'AudioVisual_06_1.fif', 'AudioVisual_06_2.fif',  'ShapeVisual_03_1.fif', 'ShapeVisual_03_2.fif', 'ShapeVisual_04_1.fif', 'ShapeVisual_04_2.fif', 'ShapeVisual_06_2.fif', 'VibroVisual_06_1.fif', 'VibroVisual_02_2.fif', 'VibroVisual_03_1.fif', 'VibroVisual_03_2.fif']\n",
    "\n",
    "raw_folder = os.path.join(os.path.expanduser('~/'),'Desktop', 'FYP', 'code_env', 'eeg-notebooks','FYP', 'data_ordered', 'mne_raw')\n",
    "raw_files_all = [file for file in os.listdir(raw_folder) if file.endswith(\".fif\")]"
   ]
  },
  {
   "cell_type": "code",
   "execution_count": null,
   "metadata": {},
   "outputs": [],
   "source": [
    "from eeg_analysis_lib import erp_rsm_alltrials\n",
    "import mne\n",
    "\n",
    "mne.set_log_level(\"ERROR\")\n",
    "keys_below_30 = ['AudioVisual_04_1.fif', 'AudioVisual_04_2.fif', 'AudioVisual_06_1.fif', 'AudioVisual_06_2.fif',  'ShapeVisual_03_1.fif', 'ShapeVisual_03_2.fif', 'ShapeVisual_04_1.fif', 'ShapeVisual_04_2.fif', 'ShapeVisual_06_2.fif', 'VibroVisual_06_1.fif', 'VibroVisual_02_2.fif', 'VibroVisual_03_1.fif', 'VibroVisual_03_2.fif']\n",
    "raw_files = keys_below_30\n",
    "\n",
    "mean_rsm_audio, std_error_rms_audio = erp_rsm_alltrials(raw_files, mode= \"Audio\", rejection_th =70)\n",
    "mean_rms_vibro,std_error_rms_vibro = erp_rsm_alltrials(raw_files, mode= \"Vibro\", rejection_th =70)\n",
    "mena_rsm_shpae, std_error_rms_trial = erp_rsm_alltrials(raw_files, mode= \"Shape\", rejection_th =70)\n"
   ]
  }
 ],
 "metadata": {
  "language_info": {
   "name": "python"
  },
  "orig_nbformat": 4
 },
 "nbformat": 4,
 "nbformat_minor": 2
}
