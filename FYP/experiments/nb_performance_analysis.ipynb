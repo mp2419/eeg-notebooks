{
 "cells": [
  {
   "attachments": {},
   "cell_type": "markdown",
   "metadata": {},
   "source": [
    "-----------------\n",
    "DIRECTION and CIRCLEs PERFORMANCE\n",
    "----------------"
   ]
  },
  {
   "cell_type": "code",
   "execution_count": null,
   "metadata": {},
   "outputs": [],
   "source": [
    "import os, json\n",
    "import basic_analysis_lib\n",
    "\n",
    "json_folder = os.path.join(os.path.expanduser('~/'),'Desktop', 'FYP', 'code_env', 'eeg-notebooks','FYP', 'data_ordered', \"data_json\")\n",
    "json_files = [file for file in os.listdir(json_folder) if file.endswith(\".json\")]\n",
    "\n",
    "csv_path =  os.path.join(os.path.expanduser('~/'), 'Desktop', 'FYP', 'code_env', 'eeg-notebooks', 'FYP', 'data')\n",
    "\n",
    "all_performances = {}\n",
    "\n",
    "for file in json_files:\n",
    "    eeg_json_path = os.path.join(json_folder, file)\n",
    "\n",
    "    print(\"Computing outlier percentage for experiement: \", file)\n",
    "\n",
    "    performance = basic_analysis_lib.merge_obj_performance(circles_file_path, eeg_json_path) # TODO\n",
    "    \n",
    "    all_performances['file'] = performance\n",
    "\n",
    "new_file_json = os.path.join(os.path.expanduser('~/'), 'Desktop', 'FYP', 'code_env', 'eeg-notebooks', 'FYP', 'results_data', 'Arrow_Circles_performance.json')\n",
    "json_data = json.dumps(all_performances, indent=4)\n",
    "\n",
    "with open(new_file_json, 'w') as file:\n",
    "    file.write(json_data)\n",
    "    print(\"New file at \", new_file_json)\n",
    "\n",
    "circles_file_path = os.path.join(os.path.expanduser('~/'), 'Desktop', 'FYP', 'code_env', 'eeg-notebooks', 'FYP', 'data', 'AudioVisual', '04', '2', 'blue_circles.csv')\n",
    "\n",
    "\n",
    "\n",
    "\n"
   ]
  }
 ],
 "metadata": {
  "language_info": {
   "name": "python"
  },
  "orig_nbformat": 4
 },
 "nbformat": 4,
 "nbformat_minor": 2
}
