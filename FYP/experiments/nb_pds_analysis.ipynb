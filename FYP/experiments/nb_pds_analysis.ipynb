{
 "cells": [
  {
   "cell_type": "code",
   "execution_count": 12,
   "metadata": {},
   "outputs": [
    {
     "name": "stdout",
     "output_type": "stream",
     "text": [
      "\n",
      "\n",
      "Loading these files: \n",
      "\n",
      "C:\\Users\\matil/Desktop\\FYP\\code_env\\eeg-notebooks\\FYP\\data_ordered\\AudioVisual_03_1.csv\n",
      "\n",
      "\n",
      "\n",
      "\n",
      "['TP9', 'AF7', 'AF8', 'TP10', 'stim']\n",
      "['TP9', 'AF7', 'AF8', 'TP10', 'stim']\n",
      "Creating RawArray with float64 data, n_channels=5, n_times=107351\n",
      "    Range : 0 ... 107350 =      0.000 ...   419.336 secs\n",
      "Ready.\n",
      "Filtering raw data in 1 contiguous segment\n",
      "Setting up band-pass filter from 1 - 30 Hz\n",
      "\n",
      "IIR filter parameters\n",
      "---------------------\n",
      "Butterworth bandpass zero-phase (two-pass forward and reverse) non-causal filter:\n",
      "- Filter order 16 (effective, after forward-backward)\n",
      "- Cutoffs at 1.00, 30.00 Hz: -6.02, -6.02 dB\n",
      "\n",
      "NOTE: plot_psd() is a legacy function. New code should use .compute_psd().plot().\n",
      "Effective window size : 8.000 (s)\n"
     ]
    }
   ],
   "source": [
    "import sys\n",
    "import analysis_lib as analysis\n",
    "import os\n",
    "\n",
    "data_path = os.path.join(os.path.expanduser('~/'),'Desktop', 'FYP', 'code_env', 'eeg-notebooks','FYP', 'data_ordered')\n",
    "file_audio = os.path.join(data_path, 'AudioVisual_03_1.csv')\n",
    "file_shape = os.path.join(data_path, 'ShapeVisual_03_1.csv')\n",
    "file_vibro = os.path.join(data_path, 'VibroVisual_03_1.csv')\n",
    "\n",
    "analysis.plot_eeg_spectrum(file_audio)"
   ]
  },
  {
   "cell_type": "code",
   "execution_count": 2,
   "metadata": {},
   "outputs": [
    {
     "name": "stdout",
     "output_type": "stream",
     "text": [
      "\n",
      "\n",
      "Loading these files: \n",
      "\n",
      "C:\\Users\\matil/Desktop\\FYP\\code_env\\eeg-notebooks\\FYP\\data_ordered\\ShapeVisual_03_1.csv\n",
      "\n",
      "\n",
      "\n",
      "\n",
      "['TP9', 'AF7', 'AF8', 'TP10', 'stim']\n",
      "['TP9', 'AF7', 'AF8', 'TP10', 'stim']\n",
      "Creating RawArray with float64 data, n_channels=5, n_times=66272\n",
      "    Range : 0 ... 66271 =      0.000 ...   258.871 secs\n",
      "Ready.\n",
      "Filtering raw data in 1 contiguous segment\n",
      "Setting up band-pass filter from 1 - 30 Hz\n",
      "\n",
      "IIR filter parameters\n",
      "---------------------\n",
      "Butterworth bandpass zero-phase (two-pass forward and reverse) non-causal filter:\n",
      "- Filter order 16 (effective, after forward-backward)\n",
      "- Cutoffs at 1.00, 30.00 Hz: -6.02, -6.02 dB\n",
      "\n",
      "NOTE: plot_psd() is a legacy function. New code should use .compute_psd().plot().\n",
      "Effective window size : 8.000 (s)\n"
     ]
    }
   ],
   "source": [
    "analysis.plot_eeg_spectrum(file_shape)"
   ]
  },
  {
   "cell_type": "code",
   "execution_count": 3,
   "metadata": {},
   "outputs": [
    {
     "name": "stdout",
     "output_type": "stream",
     "text": [
      "\n",
      "\n",
      "Loading these files: \n",
      "\n",
      "C:\\Users\\matil/Desktop\\FYP\\code_env\\eeg-notebooks\\FYP\\data_ordered\\VibroVisual_03_1.csv\n",
      "\n",
      "\n",
      "\n",
      "\n",
      "['TP9', 'AF7', 'AF8', 'TP10', 'stim']\n",
      "['TP9', 'AF7', 'AF8', 'TP10', 'stim']\n",
      "Creating RawArray with float64 data, n_channels=5, n_times=107112\n",
      "    Range : 0 ... 107111 =      0.000 ...   418.402 secs\n",
      "Ready.\n",
      "Filtering raw data in 1 contiguous segment\n",
      "Setting up band-pass filter from 1 - 30 Hz\n",
      "\n",
      "IIR filter parameters\n",
      "---------------------\n",
      "Butterworth bandpass zero-phase (two-pass forward and reverse) non-causal filter:\n",
      "- Filter order 16 (effective, after forward-backward)\n",
      "- Cutoffs at 1.00, 30.00 Hz: -6.02, -6.02 dB\n",
      "\n",
      "NOTE: plot_psd() is a legacy function. New code should use .compute_psd().plot().\n",
      "Effective window size : 8.000 (s)\n"
     ]
    }
   ],
   "source": [
    "analysis.plot_eeg_spectrum(file_vibro)"
   ]
  },
  {
   "cell_type": "code",
   "execution_count": 14,
   "metadata": {},
   "outputs": [
    {
     "ename": "TypeError",
     "evalue": "psd_eeg() got an unexpected keyword argument 'n'",
     "output_type": "error",
     "traceback": [
      "\u001b[1;31m---------------------------------------------------------------------------\u001b[0m",
      "\u001b[1;31mTypeError\u001b[0m                                 Traceback (most recent call last)",
      "\u001b[1;32m~\\AppData\\Local\\Temp\\ipykernel_23984\\1144181253.py\u001b[0m in \u001b[0;36m<module>\u001b[1;34m\u001b[0m\n\u001b[1;32m----> 1\u001b[1;33m \u001b[0manalysis\u001b[0m\u001b[1;33m.\u001b[0m\u001b[0mpsd_eeg\u001b[0m\u001b[1;33m(\u001b[0m\u001b[0mfile_audio\u001b[0m\u001b[1;33m,\u001b[0m \u001b[0mn\u001b[0m\u001b[1;33m=\u001b[0m\u001b[1;36m4\u001b[0m\u001b[1;33m)\u001b[0m\u001b[1;33m\u001b[0m\u001b[1;33m\u001b[0m\u001b[0m\n\u001b[0m",
      "\u001b[1;31mTypeError\u001b[0m: psd_eeg() got an unexpected keyword argument 'n'"
     ]
    }
   ],
   "source": [
    "analysis.psd_eeg(file_audio, n=4)"
   ]
  }
 ],
 "metadata": {
  "kernelspec": {
   "display_name": "eeg-notebooks",
   "language": "python",
   "name": "python3"
  },
  "language_info": {
   "codemirror_mode": {
    "name": "ipython",
    "version": 3
   },
   "file_extension": ".py",
   "mimetype": "text/x-python",
   "name": "python",
   "nbconvert_exporter": "python",
   "pygments_lexer": "ipython3",
   "version": "3.7.15"
  },
  "orig_nbformat": 4
 },
 "nbformat": 4,
 "nbformat_minor": 2
}
