{
 "cells": [
  {
   "cell_type": "code",
   "execution_count": null,
   "metadata": {},
   "outputs": [],
   "source": [
    "# ODDBALL TESTING METHODOLOGY\n",
    "\n",
    "#Primary Tasy: Visual count of red and blue circles\n",
    "#Secondary Task: occasional Inferference of Audio stimulus indicating to press right or left arrow\n",
    "\n",
    "#Primary Task Flow paused until user performs Secondary Task Command\n",
    "#End of test: return toatl n of Blue and Red Circles from Primary Task\n",
    "\n",
    "# EEG STREAM & MARKERS\n",
    "\n",
    "#Constant EE stream during experiment\n",
    "#First validate quality of data streamed \n",
    "\n",
    "#Marker0: at every Circle appearance (blue/red sequence stored) \n",
    "#Marker1: at every Command (left/right sequence stored) \n",
    "#Marker2: at every Key input from the user\n",
    "\n",
    "https://stackoverflow.com/questions/57099246/set-output-device-for-pygame-mixer"
   ]
  },
  {
   "cell_type": "code",
   "execution_count": null,
   "metadata": {},
   "outputs": [],
   "source": [
    "#packages abd libraries\n",
    "from muselsl import stream, list_muses, view, record\n",
    "from multiprocessing import Process\n",
    "from mne import Epochs, find_events\n",
    "from time import time, strftime, gmtime\n",
    "import os\n",
    "\n",
    "from collections import OrderedDict\n",
    "import warnings\n",
    "warnings.filterwarnings('ignore')\n",
    "\n",
    "from scipy.io import loadmat\n",
    "\n",
    "from psychopy import prefs\n",
    "#prefs.hardware['audioLib'] = ['PTB']\n",
    "#prefs.hardware['audioLib'] = ['pyo'] # PTB']\n",
    "\n",
    "from eegnb.experiments.auditory_oddball import auditory_erp_arrayin\n",
    "from eegnb.analysis import utils\n",
    "\n",
    "import numpy as np, pandas as pd\n",
    "import h5py"
   ]
  },
  {
   "cell_type": "code",
   "execution_count": null,
   "metadata": {},
   "outputs": [],
   "source": [
    "import playsound\n",
    "import random\n",
    "import time\n",
    "\n",
    "while True:\n",
    "    # Generate a random interval between 1 and 5 seconds\n",
    "    interval = random.randint(1, 5)\n",
    "    \n",
    "    # Wait for the random interval\n",
    "    time.sleep(interval)\n",
    "    \n",
    "    # Generate a random number between 0 and 1 to determine whether to play left or right audio\n",
    "    side = random.random()\n",
    "    if side < 0.5:\n",
    "        # Play left audio\n",
    "        playsound.playsound(\"left_audio.wav\", True)\n",
    "    else:\n",
    "        # Play right audio\n",
    "        playsound.playsound(\"right_audio.wav\", True)\n"
   ]
  }
 ],
 "metadata": {
  "kernelspec": {
   "display_name": "eeg-notebooks",
   "language": "python",
   "name": "python3"
  },
  "language_info": {
   "name": "python",
   "version": "3.7.15"
  },
  "orig_nbformat": 4,
  "vscode": {
   "interpreter": {
    "hash": "2421050d7b3a74c547c6913f1f95919a29785765c6e97d8d5341bb00765e708d"
   }
  }
 },
 "nbformat": 4,
 "nbformat_minor": 2
}
